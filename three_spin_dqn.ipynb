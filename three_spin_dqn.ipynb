{
 "metadata": {
  "language_info": {
   "codemirror_mode": {
    "name": "ipython",
    "version": 3
   },
   "file_extension": ".py",
   "mimetype": "text/x-python",
   "name": "python",
   "nbconvert_exporter": "python",
   "pygments_lexer": "ipython3",
   "version": "3.8.3-final"
  },
  "orig_nbformat": 2,
  "kernelspec": {
   "name": "python3",
   "display_name": "Python 3"
  }
 },
 "nbformat": 4,
 "nbformat_minor": 2,
 "cells": [
  {
   "cell_type": "markdown",
   "metadata": {},
   "source": [
    "# Metastable manifold in a three spin dissipative quantum east model\n",
    "In this notebook we demonstrate how the general code provided in the metastability module can be used to construct the simplex of an open quantum system: in this case, that of a dissipative quantum east model defined externally. This properties and dynamics of this simplex are then briefly analysed.\n",
    "\n",
    "First we need to import a necessary packages and source code."
   ]
  },
  {
   "cell_type": "code",
   "execution_count": 1,
   "metadata": {},
   "outputs": [],
   "source": [
    "import sys\n",
    "import os\n",
    "import time\n",
    "import numpy as np\n",
    "source_path = os.path.join(\"source/\")\n",
    "sys.path.insert(0,source_path)\n",
    "import metastability\n",
    "source_path = os.path.join(\"models/\")\n",
    "sys.path.insert(0,source_path)\n",
    "import dissipative_quantum_east as dqe\n",
    "from scipy import linalg"
   ]
  },
  {
   "cell_type": "markdown",
   "metadata": {},
   "source": [
    "Next we define the model, at parameters known to exhibit metastability, with a gap between the 4th and 5th eigenmodes."
   ]
  },
  {
   "cell_type": "code",
   "execution_count": 2,
   "metadata": {},
   "outputs": [],
   "source": [
    "sites = 3\n",
    "decay_rate = 1\n",
    "field = 0.1\n",
    "temperature = 0.0001\n",
    "hardness = 0.999\n",
    "model = dqe.master_operator(sites, decay_rate, field, temperature, hardness)"
   ]
  },
  {
   "cell_type": "markdown",
   "metadata": {},
   "source": [
    "Now we need to diagonalize the master operator: this is done by representing the Lindbladian as a matrix, then transforming the resulting eigenvectors into their corresponding matrix representation. Note the large gap between the 4th and 5th eigenvalues."
   ]
  },
  {
   "cell_type": "code",
   "execution_count": 3,
   "metadata": {
    "tags": []
   },
   "outputs": [
    {
     "output_type": "stream",
     "name": "stdout",
     "text": "Eigenvalues:\n[ 0.00000000e+00-0.j -9.32500000e-07-0.j -2.96070000e-06-0.j\n -2.96070000e-06+0.j -2.07537518e-02-0.j]\n"
    }
   ],
   "source": [
    "metastable_phases = sites + 1\n",
    "extra_eigenvalues = 1\n",
    "eigenvalues, left_eigenmatrices, right_eigenmatrices = model.spectrum(metastable_phases, \n",
    "                                                                      extra_eigenvalues)\n",
    "print(\"Eigenvalues:\")\n",
    "print(eigenvalues)\n",
    "new_left_eigenmatrix_1 = (left_eigenmatrices[2] + left_eigenmatrices[3])/2\n",
    "new_left_eigenmatrix_2 = (left_eigenmatrices[2] - left_eigenmatrices[3])/2j\n",
    "new_right_eigenmatrix_1 = (right_eigenmatrices[2] + right_eigenmatrices[3])\n",
    "new_right_eigenmatrix_2 = (right_eigenmatrices[2] - right_eigenmatrices[3])/1j\n",
    "left_eigenmatrices[2] = new_left_eigenmatrix_1\n",
    "left_eigenmatrices[3] = new_left_eigenmatrix_2\n",
    "right_eigenmatrices[2] = new_right_eigenmatrix_1\n",
    "right_eigenmatrices[3] = new_right_eigenmatrix_2"
   ]
  },
  {
   "cell_type": "code",
   "execution_count": 4,
   "metadata": {
    "tags": []
   },
   "outputs": [
    {
     "output_type": "stream",
     "name": "stdout",
     "text": "Vertices:\n[ 0.485 -0.317 -1.149  1.   ]\n[ 0.025  0.577 -1.149  1.   ]\n[0.    0.    0.005 1.   ]\n[-0.51  -0.26  -1.149  1.   ]\n\nClassicality:\n5.365805361150655e-07\n"
    }
   ],
   "source": [
    "simplex_vertices = metastability.simplex_vertices(left_eigenmatrices[::-1], \n",
    "                                                  rotations = 0)\n",
    "probability_operators = metastability.probability_operators(left_eigenmatrices[::-1],\n",
    "                                                            simplex_vertices)\n",
    "classicality = metastability.classicality(probability_operators)\n",
    "\n",
    "print(\"Vertices:\")\n",
    "for i in range(metastable_phases):\n",
    "\tprint(np.around(simplex_vertices[i].real, 3))\n",
    "    \n",
    "print(\"\\nClassicality:\")\n",
    "print(classicality.real)"
   ]
  },
  {
   "cell_type": "code",
   "execution_count": null,
   "metadata": {},
   "outputs": [],
   "source": []
  },
  {
   "cell_type": "code",
   "execution_count": null,
   "metadata": {},
   "outputs": [],
   "source": []
  }
 ]
}